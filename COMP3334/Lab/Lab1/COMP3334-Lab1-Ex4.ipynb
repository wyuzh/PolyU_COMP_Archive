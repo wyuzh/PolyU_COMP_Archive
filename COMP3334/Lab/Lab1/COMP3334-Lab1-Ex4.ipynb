{
 "cells": [
  {
   "cell_type": "code",
   "execution_count": 1,
   "id": "a5a9fb3d-7a77-432a-9b13-745e1e832794",
   "metadata": {},
   "outputs": [
    {
     "name": "stdout",
     "output_type": "stream",
     "text": [
      "Input: sdifusdf9a8sdfsadfas\n",
      "Encoded: c2RpZnVzZGY5YThzZGZzYWRmYXM=\n",
      "Decoded: sdifusdf9a8sdfsadfas\n"
     ]
    }
   ],
   "source": [
    "#Exercise 1\n",
    "from base64 import b64encode, b64decode\n",
    "input = \"sdifusdf9a8sdfsadfas\"\n",
    "print(\"Input: %s\" % input)\n",
    "binput = input.encode()\n",
    "encoded = b64encode(binput).decode()\n",
    "print(\"Encoded: %s\" % encoded)\n",
    "decoded = b64decode(encoded).decode()\n",
    "print(\"Decoded: %s\" % decoded)"
   ]
  },
  {
   "cell_type": "code",
   "execution_count": 2,
   "id": "fd3bcb2c-e54b-4b41-be6b-3cc50d4070f4",
   "metadata": {},
   "outputs": [
    {
     "name": "stdout",
     "output_type": "stream",
     "text": [
      "746865206b696420646f6e277420706c6179\n",
      "746865206b696420646f6e277420706c6179\n",
      "746865206b696420646f6e277420706c6179\n"
     ]
    }
   ],
   "source": [
    "#Exercise 2\n",
    "#version 1\n",
    "def XOR1(str1, str2):\n",
    "    str1 = bytes.fromhex(str1)\n",
    "    str2 = bytes.fromhex(str2)\n",
    "    out = []\n",
    "    for i in range(len(str1)):\n",
    "        out.append(str1[i] ^ str2[i])\n",
    "    return bytes.hex(bytes(out))\n",
    "print(XOR1(\"1c0111001f010100061a024b53535009181c\",\"686974207468652062756c6c277320657965\"))\n",
    "\n",
    "#version 2\n",
    "def XOR2(str1, str2):\n",
    "    xor_sequence = [a ^ b for a, b in zip(bytes.fromhex(str1), bytes.fromhex(str2))]\n",
    "    return bytes.hex(bytes(xor_sequence))\n",
    "print(XOR2(\"1c0111001f010100061a024b53535009181c\",\"686974207468652062756c6c277320657965\"))\n",
    "\n",
    "#version 3\n",
    "def XOR3(str1, str2):\n",
    "    return ''.join(f\"{x ^ y:02x}\" for x, y in zip(bytes.fromhex(str1), bytes.fromhex(str2)))\n",
    "print(XOR3(\"1c0111001f010100061a024b53535009181c\",\"686974207468652062756c6c277320657965\"))"
   ]
  },
  {
   "cell_type": "code",
   "execution_count": 3,
   "id": "f4e97b13-1dcc-4c94-9b22-0b3e8a9cc486",
   "metadata": {},
   "outputs": [
    {
     "name": "stdout",
     "output_type": "stream",
     "text": [
      "Best key: 88 (X), decrypted text: Cooking rocks ain't give good broth.\n"
     ]
    }
   ],
   "source": [
    "#Exercise 3\n",
    "from collections import Counter\n",
    "import string\n",
    "\n",
    "def decrypt(string, key):\n",
    "    return ''.join(chr(x ^ key) for x in bytes.fromhex(string))\n",
    "\n",
    "def crackXOR(ct):\n",
    "    scores = {}\n",
    "    for c in range(0x00, 0xFF+1):\n",
    "        decrypted = decrypt(ct, c)\n",
    "        \n",
    "        #Version 1\n",
    "        #frequencies = {}\n",
    "        #for byte in decrypted:\n",
    "        #    if byte in byte_frequencies:\n",
    "        #        frequencies[byte] += 1\n",
    "        #    else:\n",
    "        #        frequencies[byte] = 1\n",
    "        #frequencies = dict(sorted(frequencies.items(), key = lambda x: x[1], reverse = True))\n",
    "        \n",
    "        # Version 2\n",
    "        frequencies = Counter(decrypted)\n",
    "        # count the frequencies of all letters, since XORing with the wrong key will end up\n",
    "        # in many non-letter characters\n",
    "        scores[c] = sum([frequencies[x] for x in string.ascii_uppercase + string.ascii_lowercase])\n",
    "    \n",
    "    best_key = max(scores, key=scores.get)\n",
    "    return (best_key, decrypt(ct, best_key))\n",
    "\n",
    "ct = \"1b37373331363f782a373b332b783931367f2c783f312e3d783f37373c783a2a372c3076\"\n",
    "(key, decrypted_message) = crackXOR(ct)\n",
    "print(\"Best key: %d (%c), decrypted text: %s\" % (key, chr(key), decrypt(ct, key)))"
   ]
  },
  {
   "cell_type": "code",
   "execution_count": 4,
   "id": "b063c28a-6316-4839-9683-d71c700a14d4",
   "metadata": {},
   "outputs": [],
   "source": [
    "# Exercise 4\n",
    "from cryptography.hazmat.primitives.ciphers import Cipher, algorithms, modes\n",
    "from cryptography.hazmat.backends import default_backend\n",
    "from cryptography.hazmat.primitives import padding\n",
    "BLOCKLEN = 16\n",
    "\n",
    "# pad data using PKCS#7 to the nearest multiple of the block size\n",
    "def pad(data, block_size):\n",
    "    padder = padding.PKCS7(block_size * 8).padder()\n",
    "    padded_data = padder.update(data) + padder.finalize()\n",
    "    return padded_data\n",
    "\n",
    "# unpad data\n",
    "def unpad(padded_data, block_size):\n",
    "    unpadder = padding.PKCS7(block_size * 8).unpadder()\n",
    "    data = unpadder.update(padded_data) + unpadder.finalize()\n",
    "    return data\n",
    "\n",
    "# pad and encrypt plaintext with AES in CBC mode with given key and IV\n",
    "def AESencrypt(plaintext, key, iv):\n",
    "    # pick an instance of AES in CBC mode\n",
    "    aes = Cipher(algorithms.AES(k), modes.CBC(iv)).encryptor()\n",
    "    return aes.update(pad(plaintext, BLOCKLEN)) + aes.finalize()\n",
    "\n",
    "# decrypt and unpad ciphertext\n",
    "def AESdecrypt(ciphertext, key, iv):\n",
    "    # pick an instance of AES in CBC mode\n",
    "    aes = Cipher(algorithms.AES(k), modes.CBC(iv)).decryptor()\n",
    "    return unpad(aes.update(ciphertext) + aes.finalize(), BLOCKLEN)\n",
    "\n",
    "# pretty-print encrypted blocks of data\n",
    "def blocks(data):\n",
    "    split = [bytes.hex(data[i:i + BLOCKLEN]) for i in range(0, len(data), BLOCKLEN)]\n",
    "    return ' '.join(split)"
   ]
  },
  {
   "cell_type": "code",
   "execution_count": 5,
   "id": "48166c6c-7662-4ff8-a1a8-f78e1d9038be",
   "metadata": {},
   "outputs": [
    {
     "name": "stdout",
     "output_type": "stream",
     "text": [
      "k = 564db74c4a234ad4cf412c610e131a0c\n",
      "iv = 8780b008fe8a439ba4db3d20747f1738\n",
      "enc(6120736563726574206d657373616765) = d38b245389598e95f40edb713fa065e3 03ca3b5948b3f0444576f7fb961e7d6a\n",
      "dec(d38b245389598e95f40edb713fa065e3 03ca3b5948b3f0444576f7fb961e7d6a) = 6120736563726574206d657373616765\n"
     ]
    }
   ],
   "source": [
    "from os import urandom\n",
    "\n",
    "# pick a key\n",
    "k = urandom(16)\n",
    "print(\"k = %s\" % bytes.hex(k))\n",
    "\n",
    "# pick an IV\n",
    "iv = urandom(16)\n",
    "print(\"iv = %s\" % bytes.hex(iv))\n",
    "\n",
    "msg = b\"a secret message\"\n",
    "ct = AESencrypt(msg, k, iv)\n",
    "print(\"enc(%s) = %s\" % (blocks(msg), blocks(ct)))\n",
    "pt = AESdecrypt(ct, k, iv)\n",
    "print(\"dec(%s) = %s\" % (blocks(ct), blocks(pt)))"
   ]
  },
  {
   "cell_type": "code",
   "execution_count": 6,
   "id": "0bf47abb-264d-4aef-969e-890d5d0bf839",
   "metadata": {},
   "outputs": [],
   "source": [
    "def prepare_cookie(bs):\n",
    "    prefix = b'comment1=cooking-rocks;userdata='\n",
    "    suffix = b';comment2=%20ain%27t%20give%20good%20broth'\n",
    "    quoted_bs = quote_semicolons_equals(bs)\n",
    "    return prefix + quoted_bs + suffix\n",
    "\n",
    "def quote_semicolons_equals(bs):\n",
    "    state = bs.decode()\n",
    "    state = '\";\"'.join(state.split(';'))\n",
    "    state = '\"=\"'.join(state.split('='))\n",
    "    return state.encode()\n",
    "\n",
    "def decrypt_oracle(bs, k, iv):\n",
    "    return is_admin(AESdecrypt(bs, k, iv))\n",
    "\n",
    "def is_admin(bs):\n",
    "    return b';admin=true;' in bs"
   ]
  },
  {
   "cell_type": "code",
   "execution_count": 7,
   "id": "6db10e93-2544-493e-a1e6-8a5e45d69507",
   "metadata": {},
   "outputs": [
    {
     "name": "stdout",
     "output_type": "stream",
     "text": [
      "ct XOR modified_ct = 01000000000000000000000000000000 00000000000000000000000000000000 00000000000000000000000000000000 00000000000000000000000000000000 00000000000000000000000000000000\n"
     ]
    }
   ],
   "source": [
    "pt = prepare_cookie(b\"blah\")\n",
    "ct = AESencrypt(pt, key, iv)\n",
    "# flip the least significant bit in the first byte of the ciphertext\n",
    "modified_ct = bytes([ct[0] ^ 0x01]) + ct[1:]\n",
    "# see the difference by XORing both ciphertexts\n",
    "ct_xor_modifiedct = bytes([x ^ y for x, y in zip(ct, modified_ct)])\n",
    "print(\"ct XOR modified_ct = %s\" % blocks(ct_xor_modifiedct))"
   ]
  },
  {
   "cell_type": "code",
   "execution_count": 8,
   "id": "203da66f-095d-4c9b-84dd-eff452b27b26",
   "metadata": {},
   "outputs": [
    {
     "name": "stdout",
     "output_type": "stream",
     "text": [
      "before: dec(ff11b0ee705660c41f57514bdb4ab29d 984fdbce5092bd3135e9cdbfaca648b2 22256f2cdead92a6843c884334011792 7477b0d3bbcb1e376037c8447d2de980 733e7f9aa54f477f9e9a5c3fd50c8c2f) = 636f6d6d656e74313d636f6f6b696e67 2d726f636b733b75736572646174613d 626c61683b636f6d6d656e74323d2532 3061696e253237742532306769766525 3230676f6f6425323062726f7468\n",
      "after : dec(fe11b0ee705660c41f57514bdb4ab29d 984fdbce5092bd3135e9cdbfaca648b2 22256f2cdead92a6843c884334011792 7477b0d3bbcb1e376037c8447d2de980 733e7f9aa54f477f9e9a5c3fd50c8c2f) = d301ce10e4fc7ebb4fafe93dad5b84c4 2c726f636b733b75736572646174613d 626c61683b636f6d6d656e74323d2532 3061696e253237742532306769766525 3230676f6f6425323062726f7468\n",
      "pt XOR new_pt = b06ea37d81920a8a72cc8652c632eaa3 01000000000000000000000000000000 00000000000000000000000000000000 00000000000000000000000000000000 0000000000000000000000000000\n"
     ]
    }
   ],
   "source": [
    "# decrypt the new ciphertext\n",
    "new_pt = AESdecrypt(modified_ct, k, iv)\n",
    "print(\"before: dec(%s) = %s\" % (blocks(ct), blocks(pt)))\n",
    "print(\"after : dec(%s) = %s\" % (blocks(modified_ct), blocks(new_pt)))\n",
    "# see the difference in the resulting plaintext\n",
    "pt_xor_newpt = bytes([x ^ y for x, y in zip(pt, new_pt)])\n",
    "print(\"pt XOR new_pt = %s\" % blocks(pt_xor_newpt))"
   ]
  },
  {
   "cell_type": "code",
   "execution_count": 9,
   "id": "020c6009-7f5d-499f-a0c9-c280167f7021",
   "metadata": {},
   "outputs": [
    {
     "name": "stdout",
     "output_type": "stream",
     "text": [
      "\"-rocks;userdata=\" becomes \",rocks;userdata=\"\n"
     ]
    }
   ],
   "source": [
    "print(\"\\\"%s\\\" becomes \\\"%s\\\"\" % (pt[16:32].decode(), new_pt[16:32].decode()))"
   ]
  },
  {
   "cell_type": "code",
   "execution_count": 10,
   "id": "55455db6-d0af-48a3-9920-c8e1f825e02c",
   "metadata": {},
   "outputs": [
    {
     "name": "stdout",
     "output_type": "stream",
     "text": [
      "difference to inject into the user data: 7a00000000007c000000007a\n",
      "ct XOR malicious_ct = 00000000000000000000000000000000 7a00000000007c000000007a00000000 00000000000000000000000000000000 00000000000000000000000000000000 00000000000000000000000000000000 00000000000000000000000000000000\n",
      "dec(malicious_ct) = b'comment1=cookingC6\\x8b\\x84\\xe8;\\x02\\x19\\xbd\\x1e*\\xb6\\xec\\xe3\\xb1U;admin=true;;comment2=%20ain%27t%20give%20good%20broth'\n",
      "finally, isadmin? True\n"
     ]
    }
   ],
   "source": [
    "msg = b\"AadminAtrueA\"\n",
    "goal= b\";admin=true;\"\n",
    "desired_diff = [x ^ y for x, y in zip(msg, goal)]\n",
    "print(\"difference to inject into the user data: %s\" % blocks(bytes(desired_diff)))\n",
    "\n",
    "pt = prepare_cookie(msg)\n",
    "ct = AESencrypt(pt, key, iv)\n",
    "len_prefix = len(b'comment1=cooking-rocks;userdata=')\n",
    "len_suffix = len(b';comment2=%20ain%27t%20give%20good%20broth')\n",
    "assert(len_prefix == 32) #important, as the offset of userdata in next block will be 0\n",
    "\n",
    "#      Block 1     #      Block 2     #      Block 3     #      Block 4     #      Block 5     #      Block 6     #\n",
    "# comment1=cooking # -rocks;userdata= # AadminAtrueA;com # ment2=%20ain%27t # %20give%20good%2 # 0broth.......... #  plaintext\n",
    "# 0000000000000000 # .00000.0000.0000 # 0000000000000000 # 0000000000000000 # 0000000000000000 # 0000000000000000 #  difference pattern injected\n",
    "# 0000000000000000 # ................ # .00000.0000.0000 # 0000000000000000 # 0000000000000000 # 0000000000000000 #  affected positions\n",
    "\n",
    "# XOR the desired diff one block before the user data (we know it is at the beginning of the previous block)\n",
    "malicious_ct = ct[:16] \\\n",
    "               + bytes([x ^ y for x, y in zip(ct[16:16+len(desired_diff)], desired_diff)]) \\\n",
    "               + ct[16+len(desired_diff):]\n",
    "\n",
    "ct_diff = bytes([x ^ y for x, y in zip(ct, malicious_ct)])\n",
    "print(\"ct XOR malicious_ct = %s\" % blocks(ct_diff))\n",
    "\n",
    "# let the web server decrypt our cookie\n",
    "malicious_pt = AESdecrypt(malicious_ct, k, iv)\n",
    "print(\"dec(malicious_ct) = %s\" % malicious_pt)\n",
    "print(\"finally, isadmin? %s\" % decrypt_oracle(malicious_ct, k, iv))"
   ]
  },
  {
   "cell_type": "code",
   "execution_count": null,
   "id": "5d8f76e5-d56c-47aa-a614-2603d95676b3",
   "metadata": {},
   "outputs": [],
   "source": []
  }
 ],
 "metadata": {
  "kernelspec": {
   "display_name": "Python 3 (ipykernel)",
   "language": "python",
   "name": "python3"
  },
  "language_info": {
   "codemirror_mode": {
    "name": "ipython",
    "version": 3
   },
   "file_extension": ".py",
   "mimetype": "text/x-python",
   "name": "python",
   "nbconvert_exporter": "python",
   "pygments_lexer": "ipython3",
   "version": "3.11.2"
  }
 },
 "nbformat": 4,
 "nbformat_minor": 5
}
